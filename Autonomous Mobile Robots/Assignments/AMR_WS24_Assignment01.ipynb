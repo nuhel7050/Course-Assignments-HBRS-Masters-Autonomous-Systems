{
 "cells": [
  {
   "cell_type": "markdown",
   "id": "8f8dadca",
   "metadata": {
    "deletable": false,
    "editable": false,
    "nbassignment": {
     "type": "header"
    },
    "nbgrader": {
     "cell_type": "markdown",
     "checksum": "3516d015f114bece04e20461d3fbe1e8",
     "grade": false,
     "grade_id": "header",
     "locked": true,
     "schema_version": 3,
     "solution": false,
     "task": false
    }
   },
   "source": [
    "|        |        |        |\n",
    "|--------|--------|--------|\n",
    "![H-BRS](logos/h-brs.png) | ![A2S](logos/a2s.png) | ![b-it](logos/b-it.png) |\n",
    "\n",
    "# Autonomous Mobile Robots\n",
    "\n",
    "# AMR Assignment 1"
   ]
  },
  {
   "cell_type": "markdown",
   "id": "73ea2699",
   "metadata": {
    "deletable": false,
    "editable": false,
    "nbgrader": {
     "cell_type": "markdown",
     "checksum": "44f7ff21f9522a124e34b5d501542440",
     "grade": false,
     "grade_id": "preamble",
     "locked": true,
     "schema_version": 3,
     "solution": false,
     "task": false
    }
   },
   "source": [
    "### General information\n",
    "\n",
    "* Please do not add or delete any cells. Answers belong into the already provided cells (below the question).\n",
    "* If a function is given (either as a signature or a full function), you should not change the name, arguments, or return value of the function.\n",
    "* If you encounter empty cells underneath the answer that can not be edited, please ignore them; they are for testing purposes.\n",
    "* Please note that variables declared in the notebook cells have global scope. To make sure your assignment works correctly as a whole, please restart the kernel and run all cells before submitting (e.g. via *Kernel -> Restart & Run All*).\n",
    "* Code cells where you are supposed to give your answer often include the line  ```raise NotImplementedError```. This makes it easier to automatically grade answers. Once you fill out a function, please delete this line.\n",
    "\n",
    "### Submission\n",
    "\n",
    "Please make sure to write all your team members 2s IDs in the cell below before submission. Please submit your notebook via the JupyterHub web interface (in the main view -> Assignments -> Submit). If it is a group assignment, please make only one submission per group (for easier bookkeeping, it is best if this is always the same team member).\n",
    "\n",
    "### Questions about the assignment\n",
    "\n",
    "If you have questions about the assignment, you are encouraged to post them in the LEA forum. Proactive discussions lead to better understanding. Let's keep the forum active."
   ]
  },
  {
   "cell_type": "markdown",
   "id": "f554da69",
   "metadata": {},
   "source": [
    "## Team members (2s IDs):\n",
    "\n",
    "* anuhel2s\n",
    "* mkhan2s\n",
    "* fmasum2s"
   ]
  },
  {
   "cell_type": "markdown",
   "id": "76a4f259",
   "metadata": {
    "deletable": false,
    "editable": false,
    "nbgrader": {
     "cell_type": "markdown",
     "checksum": "5feacd0c6478b220fc004adec43cf714",
     "grade": false,
     "grade_id": "LiDAR_data_collection_visualisation_ALiDAR_data_collection_visualisation_BLiDAR_data_collection_visualisation_CLiDAR_data_collection_visualisation_DLiDAR_data_collection_visualisation_E_Header",
     "locked": true,
     "schema_version": 3,
     "solution": false,
     "task": false
    }
   },
   "source": [
    "# LiDAR Data Collection and Visualisation (in Simulation)\n",
    "\n",
    "In this assignment, you will run the Robile in simulation and collect some sensor data, followed by the visualisation of the laser scanner sensor data.\n",
    "\n",
    "Please refer to the [documentation](https://robile-amr.readthedocs.io/en/latest/source/getting_started.html) to set up the system before running the simulation. You will then plot the laser data separately with respect to two different frames. To plot the data, you will need to record the bag file and transform it to the desired reference frame."
   ]
  },
  {
   "cell_type": "markdown",
   "id": "3bb51222",
   "metadata": {
    "deletable": false,
    "editable": false,
    "nbgrader": {
     "cell_type": "markdown",
     "checksum": "cd50514402cba62e7d7dd904b591e1a9",
     "grade": false,
     "grade_id": "LiDAR_data_collection_visualisation_A_Description0",
     "locked": true,
     "schema_version": 3,
     "solution": false,
     "task": false
    }
   },
   "source": [
    "## Recording the bag file\n",
    "\n",
    "Once you have set up your ROS2 environment and corresponding repositories to run the Robile in simulation, please record the bag file to store the data on desired topics. Follow this [tutorial](https://robile-amr.readthedocs.io/en/latest/source/Tutorial/Demo%20Simulation.html) to run the Robile in simulation. In case you  receive notification that some packages are missing, please install the missing packages using `pip` and report this in the LEA forum, as this will help us update the documentation accordingly.\n",
    "\n",
    "You can learn more about bag files, the procedure for recording and playing them in this [documentation](https://docs.ros.org/en/humble/Tutorials/Beginner-CLI-Tools/Recording-And-Playing-Back-Data/Recording-And-Playing-Back-Data.html). If not already installed, please install the `ros2bag` package using the following commands:\n",
    "\n",
    "```\n",
    "sudo apt-get install ros-humble-ros2bag \n",
    "sudo apt-get install ros-humble-rosbag2-storage-default-plugins\n",
    "```\n",
    "\n",
    "Once the Robile simulation is running, open a new terminal and source the ROS2 humble workspace. In a terminal, go to the directory where you would like to save the bag file and run the following command to save data on all topics:\n",
    "\n",
    "```\n",
    "ros2 bag record -o file_name -a\n",
    "```\n",
    "\n",
    "You can now move the robot around in the simulation. Press `Ctrl+C` to stop recording and save the bag file. Now you should be able to see a directory with the name `file_name`, which contains a `.db3` and a `.yaml` file. Note that, to save data on particular topics, `-a` can be replaced by all topic names separated by space. For example, in this assignment, the topics **/scan**, **/tf**, and **/tf_static** are relevant, so the coresponding command to save data on these topic would be\n",
    "```\n",
    "ros2 bag record -o file_name /scan /tf /tf_static\n",
    "```\n",
    "\n",
    "Before proceeding with the visualisation and transformation of the data, we will first setup the system by installing some necessary packages. Please install the required packages by executing these commands:\n",
    "```\n",
    "pip install rosbag2_py\n",
    "pip install rosbags\n",
    "pip install transforms3d\n",
    "```\n",
    "\n",
    "Now we will import all necessary packages for working with the ROS bag and the data contained in it."
   ]
  },
  {
   "cell_type": "code",
   "execution_count": 42,
   "id": "89b41bed",
   "metadata": {
    "ExecuteTime": {
     "end_time": "2023-10-09T13:40:11.089057Z",
     "start_time": "2023-10-09T13:40:11.082447Z"
    },
    "code_folding": [
     12
    ],
    "deletable": false,
    "editable": false,
    "nbgrader": {
     "cell_type": "code",
     "checksum": "275c46cec0622a6dc71120e536ff1f64",
     "grade": false,
     "grade_id": "cell-e4e22d76d5c1b500",
     "locked": true,
     "schema_version": 3,
     "solution": false,
     "task": false
    }
   },
   "outputs": [],
   "source": [
    "import rclpy\n",
    "from rosbag2_py import StorageOptions, ConverterOptions, SequentialReader\n",
    "from rclpy.serialization import deserialize_message\n",
    "from sensor_msgs.msg import LaserScan\n",
    "from tf2_msgs.msg import TFMessage\n",
    "import tf2_ros\n",
    "import tf_transformations\n",
    "from geometry_msgs.msg import Quaternion\n",
    "from transforms3d.quaternions import quat2mat\n",
    "\n",
    "import numpy as np\n",
    "import matplotlib.pyplot as plt\n",
    "import os"
   ]
  },
  {
   "cell_type": "markdown",
   "id": "2bd5b590",
   "metadata": {
    "deletable": false,
    "editable": false,
    "nbgrader": {
     "cell_type": "markdown",
     "checksum": "8bf56f15d79616397637a5889b1bacee",
     "grade": false,
     "grade_id": "LiDAR_data_collection_visualisation_A_Description1",
     "locked": true,
     "schema_version": 3,
     "solution": false,
     "task": false
    }
   },
   "source": [
    "## Task 1: Reading LiDAR Data [15 Points]\n",
    "\n",
    "In the below Rviz-based visualisation of the Robile, you can see two frames: `base_laser_front_link` and `base_link` (all other frames are hidden for readability). `base_laser_front_link` is the frame with respect to which the laser scan data are measured, and `base_link` is the frame attached to the robot, which acts as a reference frame with respect to which we represent most of the robot components and sensor readings.\n",
    "\n",
    "![Frames.png](img/Frames.png)\n",
    "\n",
    "In this task, collect the scan data closest to a user-defined timestamp value from the robot. For this, you need to extract data from the bag file. **Please do not upload the bag file with your submission.**\n",
    "\n",
    "**Note:** Under [sensor messages](https://index.ros.org/p/sensor_msgs/), you can find different message definitions from ROS. [LaserScan](http://docs.ros.org/en/melodic/api/sensor_msgs/html/msg/LaserScan.html) is the data structure of a ROS message which is used to represent laser scan data. Similarly, transformation data between frames is represented using the [TFMessage](http://docs.ros.org/en/jade/api/tf2_msgs/html/msg/TFMessage.html) data structure.\n",
    "\n",
    "**Reference**: The [documentation](https://ternaris.gitlab.io/rosbags/topics/rosbag2.html) on reading rosbag2 messages may be helpful in reading the desired data from the bag files."
   ]
  },
  {
   "cell_type": "code",
   "execution_count": 43,
   "id": "d6a7a86b",
   "metadata": {
    "ExecuteTime": {
     "end_time": "2024-04-15T11:11:21.411067Z",
     "start_time": "2024-04-15T11:11:21.400427Z"
    },
    "deletable": false,
    "nbgrader": {
     "cell_type": "code",
     "checksum": "d5ae7ef590fb9254990caa1c242bc844",
     "grade": true,
     "grade_id": "LiDAR_data_collection_visualisation_A",
     "locked": false,
     "points": 15,
     "schema_version": 3,
     "solution": true,
     "task": false
    }
   },
   "outputs": [],
   "source": [
    "import rclpy\n",
    "from rosbag2_py import StorageOptions, ConverterOptions, SequentialReader\n",
    "from rclpy.serialization import deserialize_message\n",
    "from sensor_msgs.msg import LaserScan\n",
    "\n",
    "# Function to read the bag file and get the closest LaserScan to a user-defined timestamp\n",
    "def read_bagfile_and_get_closest_scan(bag_file_path, target_timestamp):\n",
    "    storage_options = StorageOptions(uri=bag_file_path, storage_id='sqlite3')\n",
    "    converter_options = ConverterOptions(input_serialization_format='cdr', output_serialization_format='cdr')\n",
    "    reader = SequentialReader()\n",
    "    reader.open(storage_options, converter_options)\n",
    "\n",
    "    closest_scan = None\n",
    "    closest_time_diff = float('inf')  # Start with a large time difference\n",
    "\n",
    "    # Convert user-defined timestamp to ROS2 Time using nanoseconds\n",
    "    target_time_ros2 = rclpy.time.Time(seconds=target_timestamp)\n",
    "    \n",
    "    while reader.has_next():\n",
    "        topic, data, t = reader.read_next()\n",
    "\n",
    "        if topic == '/scan':\n",
    "            laser_msg = deserialize_message(data, LaserScan)\n",
    "            \n",
    "            # Convert the message's timestamp to ROS2 time\n",
    "            scan_time_ros2 = rclpy.time.Time.from_msg(laser_msg.header.stamp)\n",
    "\n",
    "            # Calculate the time difference between this scan and the target timestamp\n",
    "            time_diff = abs(target_time_ros2.nanoseconds - scan_time_ros2.nanoseconds)  # Time difference in nanoseconds\n",
    "            \n",
    "            # If this scan is closer to the target timestamp, update the closest scan\n",
    "            if time_diff < closest_time_diff:\n",
    "                closest_scan = laser_msg\n",
    "                closest_time_diff = time_diff\n",
    "\n",
    "    # Print and return the closest scan if found\n",
    "    if closest_scan:\n",
    "        print(f\"Closest scan found with timestamp {closest_scan.header.stamp} (time difference: {closest_time_diff} nanoseconds)\")\n",
    "        return closest_scan\n",
    "    else:\n",
    "        print(\"No scan data found.\")\n",
    "        return None"
   ]
  },
  {
   "cell_type": "markdown",
   "id": "397d600f",
   "metadata": {
    "deletable": false,
    "editable": false,
    "nbgrader": {
     "cell_type": "markdown",
     "checksum": "d4b6999904d8d60f4441b5e9bd7964d6",
     "grade": false,
     "grade_id": "LiDAR_data_collection_visualisation_B_Description0",
     "locked": true,
     "schema_version": 3,
     "solution": false,
     "task": false
    }
   },
   "source": [
    "## Task 2: Cartesian Representation of Data  [30 points]\n",
    "\n",
    "You have to convert the scan data from polar coordinates to cartesian coordinates for better interpretation and integration with other functionalities. For this, you need to get the minimum and maximum angular range of the laser scanner and also the resolution of angles (which gives you the number of data points in a single scan).\n",
    "\n",
    "**Note:** You need to figure out how can you get these details from `scan_data`. Also, it might interest you to know with respect to which frame the data was published."
   ]
  },
  {
   "cell_type": "code",
   "execution_count": 44,
   "id": "445cb7b1",
   "metadata": {
    "deletable": false,
    "nbgrader": {
     "cell_type": "code",
     "checksum": "68cfa186da7fef0c6d8694025b1340e7",
     "grade": true,
     "grade_id": "LiDAR_data_collection_visualisation_B",
     "locked": false,
     "points": 30,
     "schema_version": 3,
     "solution": true,
     "task": false
    }
   },
   "outputs": [],
   "source": [
    "def convert_scan_to_cartesian(laser_scan):\n",
    "    ranges = laser_scan.ranges\n",
    "    angles = [laser_scan.angle_min + i * laser_scan.angle_increment for i in range(len(ranges))]\n",
    "    \n",
    "    # Convert to Cartesian coordinates\n",
    "    cartesian_coords = []\n",
    "    x_points = []\n",
    "    y_points = []\n",
    "    for i in range(len(ranges)):\n",
    "        if ranges[i] != float('inf'):  # Only consider valid range values\n",
    "            x = ranges[i] * np.cos(angles[i])\n",
    "            y = ranges[i] * np.sin(angles[i])\n",
    "            cartesian_coords.append((x, y))\n",
    "            x_points.append(x)\n",
    "            y_points.append(y)\n",
    "    \n",
    "    return x_points, y_points\n"
   ]
  },
  {
   "cell_type": "markdown",
   "id": "4d74d25a",
   "metadata": {
    "deletable": false,
    "editable": false,
    "nbgrader": {
     "cell_type": "markdown",
     "checksum": "60afa66405aa3ec9f0477d7bccd039fc",
     "grade": false,
     "grade_id": "LiDAR_data_collection_visualisation_C_Description0",
     "locked": true,
     "schema_version": 3,
     "solution": false,
     "task": false
    }
   },
   "source": [
    "## Task 3: Scan Visualisation [10 Points]\n",
    "\n",
    "Plot the points using the Cartesian coordinates from your above implementation.  \n",
    "\n",
    "**Note:** Please make sure that your plot has a corresponding title, axis labels, grid, and legend."
   ]
  },
  {
   "cell_type": "code",
   "execution_count": 45,
   "id": "274c7a19",
   "metadata": {
    "deletable": false,
    "nbgrader": {
     "cell_type": "code",
     "checksum": "47b7a01f1fa0798307bb2354f66322c0",
     "grade": true,
     "grade_id": "LiDAR_data_collection_visualisation_C",
     "locked": false,
     "points": 10,
     "schema_version": 3,
     "solution": true,
     "task": false
    }
   },
   "outputs": [],
   "source": [
    "import matplotlib.pyplot as plt\n",
    "\n",
    "# Function to plot polar coordinates from LaserScan data\n",
    "def plot_polar(laser_scan):\n",
    "    ranges = laser_scan.ranges\n",
    "    angles = [laser_scan.angle_min + i * laser_scan.angle_increment for i in range(len(ranges))]\n",
    "\n",
    "    \n",
    "    filtered_ranges = [r for r in ranges if r != float('inf')]\n",
    "    filtered_angles = [angles[i] for i in range(len(ranges)) if ranges[i] != float('inf')]\n",
    "\n",
    "    plt.figure(figsize=(8, 8))\n",
    "    ax = plt.subplot(111, projection='polar')\n",
    "\n",
    "    ax.scatter(filtered_angles, filtered_ranges, s=1)\n",
    "    ax.set_title('Laser Scan Data in Polar Coordinates')\n",
    "\n",
    "    # Set radial ticks based on valid ranges\n",
    "    if filtered_ranges:\n",
    "        max_range = max(filtered_ranges)\n",
    "        ax.set_rticks([i for i in range(0, int(max_range), int(max_range / 4))])\n",
    "\n",
    "    plt.show()\n",
    "\n",
    "    print(\"First 10 polar coordinates (angle, range):\")\n",
    "    for i in range(min(10, len(filtered_ranges))):\n",
    "        print(f\"Angle: {filtered_angles[i]:.2f} radians, Range: {filtered_ranges[i]:.2f} meters\")\n",
    "\n",
    "\n",
    "def plot_cartesian(x_points, y_points):\n",
    "    plt.figure(figsize=(8, 8))\n",
    "    plt.scatter(x_points, y_points, s=1)\n",
    "    plt.title('Laser Scan Data in Cartesian Coordinates')\n",
    "    plt.xlabel('X (meters)')\n",
    "    plt.ylabel('Y (meters)')\n",
    "    plt.grid(True)\n",
    "    plt.show()"
   ]
  },
  {
   "cell_type": "markdown",
   "id": "9dbe7cbe",
   "metadata": {
    "deletable": false,
    "editable": false,
    "nbgrader": {
     "cell_type": "markdown",
     "checksum": "c95888b91d8ea9ac8aab0a22f6f59a94",
     "grade": false,
     "grade_id": "LiDAR_data_collection_visualisation_D_Description0",
     "locked": true,
     "schema_version": 3,
     "solution": false,
     "task": false
    }
   },
   "source": [
    "## Task 4:  Scan Transformation to base_link [35 Points]\n",
    "\n",
    "Your next task is to transform the scan data with respect to `base_link` and then plot the resulting points. Part of this task is to figure out the topic under which this transformation details are being published, and then use that information to perform this transformation.\n",
    "\n",
    "**Tip:** In order to get the Euler angle rotation (i.e. the (roll, pitch, yaw) angles) from the transformation matrix, the method `tf_transformations.euler_from_quaternion` can be used."
   ]
  },
  {
   "cell_type": "code",
   "execution_count": 46,
   "id": "c6a9612a",
   "metadata": {
    "deletable": false,
    "nbgrader": {
     "cell_type": "code",
     "checksum": "554b8cfd9530b8894443416af8527173",
     "grade": true,
     "grade_id": "LiDAR_data_collection_visualisation_D",
     "locked": false,
     "points": 35,
     "schema_version": 3,
     "solution": true,
     "task": false
    }
   },
   "outputs": [],
   "source": [
    "def extract_tf_static_transformations(bag_file_path):\n",
    "  \n",
    "    tf_static_coordinates = []\n",
    "\n",
    "    reader = SequentialReader()\n",
    "    storage_options = StorageOptions(uri=bag_file_path, storage_id='sqlite3')\n",
    "    converter_options = ConverterOptions(input_serialization_format='cdr', output_serialization_format='cdr')\n",
    "    \n",
    "    reader.open(storage_options, converter_options)\n",
    "\n",
    "    while reader.has_next():\n",
    "        topic, data, timestamp = reader.read_next()\n",
    "\n",
    "        if topic == '/tf_static':\n",
    "            msg_static = deserialize_message(data, TFMessage)\n",
    "\n",
    "            if msg_static.transforms:\n",
    "                # Extract translation components\n",
    "                x_msg = msg_static.transforms[0].transform.translation.x\n",
    "                y_msg = msg_static.transforms[0].transform.translation.y\n",
    "                z_msg = msg_static.transforms[0].transform.translation.z\n",
    "\n",
    "                # Extract rotation (quaternion) components\n",
    "                qx = msg_static.transforms[0].transform.rotation.x\n",
    "                qy = msg_static.transforms[0].transform.rotation.y\n",
    "                qz = msg_static.transforms[0].transform.rotation.z\n",
    "                qw = msg_static.transforms[0].transform.rotation.w\n",
    "\n",
    "                # Create translation vector and rotation matrix\n",
    "                translation = np.array([x_msg, y_msg, z_msg])\n",
    "                rotation_matrix = quat2mat([qw, qx, qy, qz])\n",
    "\n",
    "                # Create a 4x4 transformation matrix\n",
    "                transformation_matrix = np.eye(4)\n",
    "                transformation_matrix[:3, :3] = rotation_matrix\n",
    "                transformation_matrix[:3, 3] = translation\n",
    "\n",
    "                # Append the transformation matrix to the list\n",
    "                tf_static_coordinates.append(transformation_matrix)\n",
    "            else:\n",
    "                print(\"Warning: Empty 'transforms' field in message from topic '/tf_static'\")\n",
    "\n",
    "    return tf_static_coordinates\n",
    "\n",
    "def transform_lidar_points(x_points, y_points, transformation_matrix):\n",
    "\n",
    "    # Convert the LiDAR points to homogeneous coordinates\n",
    "    lidar_points = np.vstack((x_points, y_points, np.zeros_like(x_points), np.ones_like(x_points)))\n",
    "\n",
    "    # Apply the transformation\n",
    "    transformed_points = transformation_matrix @ lidar_points\n",
    "\n",
    "    # Extract the transformed X and Y coordinates\n",
    "    x_transformed = transformed_points[0, :]\n",
    "    y_transformed = transformed_points[1, :]\n",
    "\n",
    "    return x_transformed, y_transformed"
   ]
  },
  {
   "cell_type": "markdown",
   "id": "d25ccc72",
   "metadata": {
    "deletable": false,
    "editable": false,
    "nbgrader": {
     "cell_type": "markdown",
     "checksum": "6acd0129ffd0453dd0cc70a7614614ba",
     "grade": false,
     "grade_id": "LiDAR_data_collection_visualisation_E_Description0",
     "locked": true,
     "schema_version": 3,
     "solution": false,
     "task": false
    }
   },
   "source": [
    "## Task 5:  Scan Visualisation in base_link [5 Points]\n",
    "\n",
    "Plot the points using the Cartesian coordinates from your above implementation after transformation to `base_link`. \n",
    "\n",
    "**Note:** Please make sure that your plot has a corresponding title, axis labels, grid, and legend."
   ]
  },
  {
   "cell_type": "code",
   "execution_count": 47,
   "id": "60d105c7",
   "metadata": {
    "ExecuteTime": {
     "end_time": "2023-10-09T20:57:36.402065Z",
     "start_time": "2023-10-09T20:57:36.395759Z"
    },
    "deletable": false,
    "nbgrader": {
     "cell_type": "code",
     "checksum": "c170974396512c15d7c4c3d0b38318f9",
     "grade": true,
     "grade_id": "LiDAR_data_collection_visualisation_E",
     "locked": false,
     "points": 5,
     "schema_version": 3,
     "solution": true,
     "task": false
    }
   },
   "outputs": [],
   "source": [
    "def plot_lidar_scan(x_points, y_points):\n",
    "    \n",
    "    plt.figure(figsize=(8, 8))\n",
    "    plt.scatter(x_points, y_points, s=1, c='red', label=\"LiDAR Points (base_link)\")\n",
    "    plt.title('LiDAR Scan Visualization in base_link Frame')\n",
    "    plt.xlabel('X (meters)')\n",
    "    plt.ylabel('Y (meters)')\n",
    "    plt.grid(True)\n",
    "    plt.legend()\n",
    "    plt.show()\n"
   ]
  },
  {
   "cell_type": "code",
   "execution_count": 48,
   "id": "79f3ebfa",
   "metadata": {},
   "outputs": [
    {
     "name": "stderr",
     "output_type": "stream",
     "text": [
      "[INFO] [1729770146.790288126] [rosbag2_storage]: Opened database '../../bag_22_10_24/bag_23_04_24_0.db3' for READ_ONLY.\n",
      "[INFO] [1729770146.857072190] [rosbag2_storage]: Opened database '../../bag_22_10_24/bag_23_04_24_0.db3' for READ_ONLY.\n"
     ]
    },
    {
     "name": "stdout",
     "output_type": "stream",
     "text": [
      "Extracted 2 transformation matrices from /tf_static.\n",
      "Closest scan found with timestamp builtin_interfaces.msg.Time(sec=83, nanosec=509000000) (time difference: 902492000000 nanoseconds)\n",
      "LaserScan ranges (first 10 values): array('f', [3.4754691123962402, 3.4357364177703857, 3.3912811279296875, 3.3250598907470703, 3.2726082801818848, 3.255305290222168, 3.193357467651367, 3.1716692447662354, 3.145189046859741, 3.1029505729675293])\n"
     ]
    },
    {
     "data": {
      "image/png": "[encoded data removed]",
      "text/plain": [
       "<Figure size 576x576 with 1 Axes>"
      ]
     },
     "metadata": {
      "needs_background": "light"
     },
     "output_type": "display_data"
    },
    {
     "name": "stdout",
     "output_type": "stream",
     "text": [
      "First 10 polar coordinates (angle, range):\n",
      "Angle: -1.57 radians, Range: 3.48 meters\n",
      "Angle: -1.55 radians, Range: 3.44 meters\n",
      "Angle: -1.53 radians, Range: 3.39 meters\n",
      "Angle: -1.51 radians, Range: 3.33 meters\n",
      "Angle: -1.49 radians, Range: 3.27 meters\n",
      "Angle: -1.46 radians, Range: 3.26 meters\n",
      "Angle: -1.44 radians, Range: 3.19 meters\n",
      "Angle: -1.42 radians, Range: 3.17 meters\n",
      "Angle: -1.40 radians, Range: 3.15 meters\n",
      "Angle: -1.38 radians, Range: 3.10 meters\n"
     ]
    },
    {
     "data": {
      "image/png": "[encoded data removed]",
      "text/plain": [
       "<Figure size 576x576 with 1 Axes>"
      ]
     },
     "metadata": {
      "needs_background": "light"
     },
     "output_type": "display_data"
    },
    {
     "data": {
      "image/png": "[encoded data removed]",
      "text/plain": [
       "<Figure size 576x576 with 1 Axes>"
      ]
     },
     "metadata": {
      "needs_background": "light"
     },
     "output_type": "display_data"
    }
   ],
   "source": [
    "#Main Function defined here\n",
    "def main():\n",
    "\n",
    "    if not rclpy.ok():\n",
    "        rclpy.init()\n",
    "\n",
    "    user_defined_timestamp = 986.001 \n",
    "\n",
    "    bag_file_path = '../../bag_22_10_24/'\n",
    "\n",
    "    tf_static_coordinates = extract_tf_static_transformations(bag_file_path)\n",
    "    print(f\"Extracted {len(tf_static_coordinates)} transformation matrices from /tf_static.\")\n",
    "\n",
    "  \n",
    "    closest_lidar_scan = read_bagfile_and_get_closest_scan(bag_file_path, user_defined_timestamp)\n",
    "\n",
    "    \n",
    "    if closest_lidar_scan:\n",
    "        print(f\"LaserScan ranges (first 10 values): {closest_lidar_scan.ranges[:10]}\") \n",
    "        plot_polar(closest_lidar_scan) \n",
    "\n",
    "       \n",
    "        x_points, y_points = convert_scan_to_cartesian(closest_lidar_scan)\n",
    "\n",
    "        \n",
    "        plot_cartesian(x_points, y_points)\n",
    "\n",
    "        plot_lidar_scan(x_points, y_points)\n",
    "\n",
    "    if rclpy.ok():\n",
    "        rclpy.shutdown()\n",
    "\n",
    "if __name__ == \"__main__\":\n",
    "    main()"
   ]
  },
  {
   "cell_type": "markdown",
   "id": "665ca2bb",
   "metadata": {
    "deletable": false,
    "editable": false,
    "nbgrader": {
     "cell_type": "markdown",
     "checksum": "4dc50da4b461fb957f7619876f6e9e63",
     "grade": false,
     "grade_id": "LiDAR_data_discussion_q",
     "locked": true,
     "schema_version": 3,
     "solution": false,
     "task": false
    }
   },
   "source": [
    "#### How does this visualisation compare to the previous visualisation of the same data? Is this what you expected? [5 points]"
   ]
  },
  {
   "cell_type": "markdown",
   "id": "573559a9",
   "metadata": {
    "deletable": false,
    "nbgrader": {
     "cell_type": "markdown",
     "checksum": "157ac7146c7e5f2d4c730a4cc05605c0",
     "grade": true,
     "grade_id": "LiDAR_data_discussion",
     "locked": false,
     "points": 5,
     "schema_version": 3,
     "solution": true,
     "task": false
    }
   },
   "source": [
    "We expected a significant difference between the visualizations before and after transforming the LiDAR data to the base_link frame, but both plots appeared the same. This happened because the LiDAR sensor is likely fixed relative to the robot's body, and the transformation between the LiDAR frame and base_link is just a small translation or rotation that doesn’t drastically alter the point cloud's shape. Since the sensor is already closely aligned with the base_link frame, the transformation only introduces a minor shift in the data, which is not visually noticeable in a 2D plot. The relative positions of the points remain the same, and the transformation doesn’t significantly affect the appearance of the plot. This outcome is expected, as the transformation between a fixed sensor and the robot’s base usually results in only small changes in position or orientation. Therefore, both plots appear identical because the transformation between the frames is minimal."
   ]
  }
 ],
 "metadata": {
  "kernelspec": {
   "display_name": "Python 3 (ipykernel)",
   "language": "python",
   "name": "python3"
  },
  "language_info": {
   "codemirror_mode": {
    "name": "ipython",
    "version": 3
   },
   "file_extension": ".py",
   "mimetype": "text/x-python",
   "name": "python",
   "nbconvert_exporter": "python",
   "pygments_lexer": "ipython3",
   "version": "3.11.4"
  }
 },
 "nbformat": 4,
 "nbformat_minor": 5
}
